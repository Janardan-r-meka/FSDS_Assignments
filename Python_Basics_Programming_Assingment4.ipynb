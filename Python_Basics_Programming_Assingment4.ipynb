{
 "cells": [
  {
   "cell_type": "code",
   "execution_count": 8,
   "id": "f935a16d-c0d6-4242-8dc4-896fb402082d",
   "metadata": {},
   "outputs": [
    {
     "name": "stdin",
     "output_type": "stream",
     "text": [
      "Enter a number  4\n"
     ]
    },
    {
     "name": "stdout",
     "output_type": "stream",
     "text": [
      "4 factorial is 24\n"
     ]
    }
   ],
   "source": [
    "# Python Program to Find the Factorial of a Number\n",
    "number = int(input(\"Enter a number \"))\n",
    "\n",
    "fact= 1\n",
    "\n",
    "if number < 0:\n",
    "    print(f\"give some posiitve number\")\n",
    "elif number == 0 or number == 1:\n",
    "    print(f\"{number} factorial is 1\")\n",
    "else:\n",
    "    for current in range(number, 1, -1):\n",
    "        fact *= current\n",
    "    print(f\"{number} factorial is {fact}\")"
   ]
  },
  {
   "cell_type": "code",
   "execution_count": 11,
   "id": "748a36f4-554f-4ad9-b787-1a05f80a8bc9",
   "metadata": {},
   "outputs": [
    {
     "name": "stdin",
     "output_type": "stream",
     "text": [
      "Enter a number 3\n",
      "till how many times would you like to calculate  5\n"
     ]
    },
    {
     "name": "stdout",
     "output_type": "stream",
     "text": [
      "3 * 1 = 3\n",
      "3 * 2 = 6\n",
      "3 * 3 = 9\n",
      "3 * 4 = 12\n",
      "3 * 5 = 15\n"
     ]
    }
   ],
   "source": [
    "# Python Program to Display the multiplication Table\n",
    "number = int(input(\"Enter a number\"))\n",
    "howMany= int(input(\"till how many times would you like to calculate \"))\n",
    "for times in range(1,howMany+1):\n",
    "    print(f\"{number} * {times} = {number*times}\")"
   ]
  },
  {
   "cell_type": "code",
   "execution_count": 3,
   "id": "ba413fc6-bc2c-426b-9346-27229db8c363",
   "metadata": {},
   "outputs": [
    {
     "name": "stdin",
     "output_type": "stream",
     "text": [
      "Enter the range for the fibonacci series  3\n"
     ]
    },
    {
     "name": "stdout",
     "output_type": "stream",
     "text": [
      "0 1 1 "
     ]
    }
   ],
   "source": [
    "# Python Program to Print the Fibonacci sequence\n",
    "number = int(input(\"Enter the range for the fibonacci series \"))\n",
    "\n",
    "\n",
    "def fib(number):\n",
    "    if number <= 1:\n",
    "        return number\n",
    "    else:\n",
    "        return fib(number-1)+fib(number-2)\n",
    "    \n",
    "\n",
    "for i in range(number):\n",
    "    result = fib(i)\n",
    "    print(result, end = \" \")"
   ]
  },
  {
   "cell_type": "code",
   "execution_count": 6,
   "id": "9dd1e86f-890e-4ab1-acb9-52cfbf6fbdc3",
   "metadata": {},
   "outputs": [
    {
     "name": "stdin",
     "output_type": "stream",
     "text": [
      "enter a number  231\n"
     ]
    },
    {
     "name": "stdout",
     "output_type": "stream",
     "text": [
      "231 is not a amstrong number\n"
     ]
    }
   ],
   "source": [
    "#Python Program to Check Armstrong Number\n",
    "number = int(input(\"enter a number \"))\n",
    "number_copy = number\n",
    "result = 0\n",
    "\n",
    "while number > 0:\n",
    "    rem = number % 10\n",
    "    result += rem ** 3\n",
    "    number = number // 10\n",
    "\n",
    "if result == number_copy:\n",
    "    print(f\"{number_copy} is amstrong number\")\n",
    "else:\n",
    "    print(f\"{number_copy} is not a amstrong number\")\n",
    "    "
   ]
  },
  {
   "cell_type": "code",
   "execution_count": 7,
   "id": "b99588e8-3789-45e9-8059-20ff1efc2d10",
   "metadata": {},
   "outputs": [
    {
     "name": "stdin",
     "output_type": "stream",
     "text": [
      "enter the minimum range of an interval  1\n",
      "enter the maximum range of the interval  500\n"
     ]
    },
    {
     "name": "stdout",
     "output_type": "stream",
     "text": [
      "1 153 370 371 407 "
     ]
    }
   ],
   "source": [
    "# Python Program to Find Armstrong Number in an Interval\n",
    "minimum = int(input(\"enter the minimum range of an interval \"))\n",
    "maximum = int(input(\"enter the maximum range of the interval \"))\n",
    "\n",
    "while minimum <= maximum :\n",
    "    \n",
    "    #number_copy = minimum\n",
    "    number= minimum\n",
    "    result = 0\n",
    "    \n",
    "    while number > 0:\n",
    "        rem = number % 10\n",
    "        result += rem ** 3\n",
    "        number = number // 10\n",
    "        \n",
    "    if result == minimum :\n",
    "        print(minimum, end = \" \")\n",
    "        \n",
    "    minimum += 1\n",
    "    \n",
    "        "
   ]
  },
  {
   "cell_type": "code",
   "execution_count": 8,
   "id": "7ea0f01e-5fd1-4bd3-8165-3fe58126524c",
   "metadata": {},
   "outputs": [
    {
     "name": "stdin",
     "output_type": "stream",
     "text": [
      "enter the number of first natural numbers  10\n"
     ]
    },
    {
     "name": "stdout",
     "output_type": "stream",
     "text": [
      "sum is 55\n"
     ]
    }
   ],
   "source": [
    "#Python Program to Find the Sum of Natural Numbers\n",
    "\n",
    "number = int(input(\"enter the number of first natural numbers \"))\n",
    "print(f\"sum is {(number * (number+1))//2}\")"
   ]
  },
  {
   "cell_type": "code",
   "execution_count": null,
   "id": "cccec74d-6827-4982-8922-2456495c9d19",
   "metadata": {},
   "outputs": [],
   "source": []
  }
 ],
 "metadata": {
  "kernelspec": {
   "display_name": "Python 3 (ipykernel)",
   "language": "python",
   "name": "python3"
  },
  "language_info": {
   "codemirror_mode": {
    "name": "ipython",
    "version": 3
   },
   "file_extension": ".py",
   "mimetype": "text/x-python",
   "name": "python",
   "nbconvert_exporter": "python",
   "pygments_lexer": "ipython3",
   "version": "3.10.6"
  }
 },
 "nbformat": 4,
 "nbformat_minor": 5
}
