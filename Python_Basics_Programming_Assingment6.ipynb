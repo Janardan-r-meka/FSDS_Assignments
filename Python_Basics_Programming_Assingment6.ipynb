{
 "cells": [
  {
   "cell_type": "code",
   "execution_count": 3,
   "id": "754f2135-77d8-473f-9c5c-ba1826a8561b",
   "metadata": {},
   "outputs": [
    {
     "name": "stdin",
     "output_type": "stream",
     "text": [
      "enter the number of natural numbers  5\n"
     ]
    },
    {
     "name": "stdout",
     "output_type": "stream",
     "text": [
      "cube sum of first 5 natural numbers is 225\n"
     ]
    }
   ],
   "source": [
    "#Python Program for cube sum of first n natural numbers\n",
    "number = int(input(\"enter the number of natural numbers \"))\n",
    "result = 0\n",
    "for current in range(number+1):\n",
    "    result += current**3\n",
    "print(f\"cube sum of first {number} natural numbers is {result}\")"
   ]
  },
  {
   "cell_type": "code",
   "execution_count": 10,
   "id": "6f2036a9-5bbe-4b31-b104-b1b564553e68",
   "metadata": {},
   "outputs": [
    {
     "name": "stdin",
     "output_type": "stream",
     "text": [
      "enter a number  200\n"
     ]
    },
    {
     "name": "stdout",
     "output_type": "stream",
     "text": [
      "the natural logartham of 200 is 5.298317366548036\n"
     ]
    }
   ],
   "source": [
    "# Python Program to calculate the natural logarithm of any number\n",
    "import math\n",
    "number = int(input(\"enter a number \"))\n",
    "if number > 0:\n",
    "    print(f\"the natural logartham of {number} is {math.log(number)}\")\n",
    "else:\n",
    "    print(\"give a valid value \")"
   ]
  },
  {
   "cell_type": "code",
   "execution_count": 11,
   "id": "f2285528-f1ce-48ba-b1bf-2d8aaaefaa8a",
   "metadata": {},
   "outputs": [
    {
     "name": "stdin",
     "output_type": "stream",
     "text": [
      "weight (kg)  57\n",
      "height (cm)  155\n"
     ]
    },
    {
     "name": "stdout",
     "output_type": "stream",
     "text": [
      "Body Mass Index is 23.725286160249738\n"
     ]
    }
   ],
   "source": [
    "#Python Program to calculate your Body Mass Index\n",
    "weight = float(input(\"weight (kg) \"))\n",
    "height = float(input(\"height (cm) \"))/100\n",
    "\n",
    "bmi = weight/(height ** 2)\n",
    "print(f\"Body Mass Index is {bmi}\")"
   ]
  },
  {
   "cell_type": "code",
   "execution_count": 12,
   "id": "e0b9a3da-dd1a-40e0-ada0-e31909ba4da9",
   "metadata": {},
   "outputs": [
    {
     "name": "stdin",
     "output_type": "stream",
     "text": [
      "Enter a number  4\n"
     ]
    },
    {
     "name": "stdout",
     "output_type": "stream",
     "text": [
      "factorial of 4 is 24\n"
     ]
    }
   ],
   "source": [
    "# Python Program to Find Factorial of Number Using Recursion\n",
    "def fact(number):\n",
    "    if number <= 1:\n",
    "        return 1\n",
    "    else:\n",
    "        return number*fact(number-1)\n",
    "\n",
    "number = int(input(\"Enter a number \"))\n",
    "result = fact(number)\n",
    "print(f\"factorial of {number} is {result}\")"
   ]
  },
  {
   "cell_type": "code",
   "execution_count": 14,
   "id": "a19c3695-8dd4-4f3b-b13e-fe0d6de1497e",
   "metadata": {},
   "outputs": [
    {
     "name": "stdin",
     "output_type": "stream",
     "text": [
      "Enter the range for the fibonacci series  7\n"
     ]
    },
    {
     "name": "stdout",
     "output_type": "stream",
     "text": [
      "0 1 1 2 3 5 8 "
     ]
    }
   ],
   "source": [
    "# Python Program to Print the Fibonacci sequence using recursion\n",
    "number = int(input(\"Enter the range for the fibonacci series \"))\n",
    "\n",
    "\n",
    "def fib(number):\n",
    "    if number <= 1:\n",
    "        return number\n",
    "    else:\n",
    "        return fib(number-1)+fib(number-2)\n",
    "    \n",
    "\n",
    "for i in range(number):\n",
    "    result = fib(i)\n",
    "    print(result, end = \" \")"
   ]
  },
  {
   "cell_type": "code",
   "execution_count": null,
   "id": "dde40f31-4d7f-4f40-94d0-868fdb0d14b6",
   "metadata": {},
   "outputs": [],
   "source": []
  }
 ],
 "metadata": {
  "kernelspec": {
   "display_name": "Python 3 (ipykernel)",
   "language": "python",
   "name": "python3"
  },
  "language_info": {
   "codemirror_mode": {
    "name": "ipython",
    "version": 3
   },
   "file_extension": ".py",
   "mimetype": "text/x-python",
   "name": "python",
   "nbconvert_exporter": "python",
   "pygments_lexer": "ipython3",
   "version": "3.10.6"
  }
 },
 "nbformat": 4,
 "nbformat_minor": 5
}
