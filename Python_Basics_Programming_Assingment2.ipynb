{
 "cells": [
  {
   "cell_type": "code",
   "execution_count": 7,
   "id": "984b7cc0-56a1-49f7-a476-4f3e4de74a91",
   "metadata": {},
   "outputs": [
    {
     "name": "stdin",
     "output_type": "stream",
     "text": [
      "kms  3\n"
     ]
    },
    {
     "name": "stdout",
     "output_type": "stream",
     "text": [
      "\n",
      "3.0 kilometers equal to 2.01 miles\n"
     ]
    }
   ],
   "source": [
    "# Python program to convert kilometers to miles\n",
    "kms= float(input(\"kms \"))\n",
    "\n",
    "mils= kms * 0.67\n",
    "print()\n",
    "print(f\"{kms} kilometers equal to {round(mils,2)} miles\")\n"
   ]
  },
  {
   "cell_type": "code",
   "execution_count": 8,
   "id": "f7e662fb-8576-4073-822b-21c4b75906cf",
   "metadata": {},
   "outputs": [
    {
     "name": "stdin",
     "output_type": "stream",
     "text": [
      "celsius  45\n"
     ]
    },
    {
     "name": "stdout",
     "output_type": "stream",
     "text": [
      "\n",
      "45.0 selsius equals to 113.0 fhareinheit \n"
     ]
    }
   ],
   "source": [
    "#Python program to convert Celsius to Fahrenheit\n",
    "celsius= float(input(\"celsius \"))\n",
    "fhareinheit= (9/5)* celsius + 32\n",
    "print()\n",
    "print(f\"{celsius} selsius equals to {fhareinheit} fhareinheit \")\n"
   ]
  },
  {
   "cell_type": "code",
   "execution_count": 9,
   "id": "da765804-ac29-4383-b5ec-38f866cc4658",
   "metadata": {},
   "outputs": [
    {
     "name": "stdin",
     "output_type": "stream",
     "text": [
      "month  11\n",
      "year  2022\n"
     ]
    },
    {
     "name": "stdout",
     "output_type": "stream",
     "text": [
      "\n",
      "   November 2022\n",
      "Mo Tu We Th Fr Sa Su\n",
      "    1  2  3  4  5  6\n",
      " 7  8  9 10 11 12 13\n",
      "14 15 16 17 18 19 20\n",
      "21 22 23 24 25 26 27\n",
      "28 29 30\n",
      "\n"
     ]
    }
   ],
   "source": [
    "#Python program to display calendar\n",
    "import calendar\n",
    "\n",
    "month= int(input(\"month \"))\n",
    "year= int(input(\"year \"))\n",
    "cal= calendar.month(year,month)\n",
    "print()\n",
    "print(cal)"
   ]
  },
  {
   "cell_type": "code",
   "execution_count": 10,
   "id": "abdceeab-9304-4513-a73a-57b6cd96cc7d",
   "metadata": {},
   "outputs": [
    {
     "name": "stdin",
     "output_type": "stream",
     "text": [
      "a value 1\n",
      "b value 5\n",
      "c value 6\n"
     ]
    },
    {
     "name": "stdout",
     "output_type": "stream",
     "text": [
      "\n",
      "descriminant value is 1\n",
      "the solutions are (-2+0j) and (-3+0j)\n"
     ]
    }
   ],
   "source": [
    "# Python program to solve quadratic equation\n",
    "import cmath\n",
    "a= int(input(\"a value\"))\n",
    "b= int(input(\"b value\"))\n",
    "c= int(input(\"c value\"))\n",
    "\n",
    "d= b**2 - 4*a*c\n",
    "print()\n",
    "print(f\"descriminant value is {d}\")\n",
    "sol1 = (-b + cmath.sqrt(d))/2 * a\n",
    "sol2 = (-b - cmath.sqrt(d))/2 * a\n",
    "print(f\"the solutions are {sol1} and {sol2}\")"
   ]
  },
  {
   "cell_type": "code",
   "execution_count": 6,
   "id": "bb36cf38-a8ef-4ac2-829f-30d0a498dea6",
   "metadata": {},
   "outputs": [
    {
     "name": "stdin",
     "output_type": "stream",
     "text": [
      "number 1  2\n",
      "number 2  3\n"
     ]
    },
    {
     "name": "stdout",
     "output_type": "stream",
     "text": [
      "\n",
      "Before swapping values are 2 and 3\n",
      "After swapping values are 3 and 2\n"
     ]
    }
   ],
   "source": [
    "# Python program to swap two variables without temp variable\n",
    "num1 = int(input(\"number 1 \"))\n",
    "num2 = int(input(\"number 2 \"))\n",
    "print()\n",
    "print(f\"Before swapping values are {num1} and {num2}\")\n",
    "num1, num2 = num2, num1\n",
    "print(f\"After swapping values are {num1} and {num2}\")"
   ]
  },
  {
   "cell_type": "code",
   "execution_count": null,
   "id": "2c8bb9a5-df34-432c-96e3-cb10a8d3a38e",
   "metadata": {},
   "outputs": [],
   "source": []
  }
 ],
 "metadata": {
  "kernelspec": {
   "display_name": "Python 3 (ipykernel)",
   "language": "python",
   "name": "python3"
  },
  "language_info": {
   "codemirror_mode": {
    "name": "ipython",
    "version": 3
   },
   "file_extension": ".py",
   "mimetype": "text/x-python",
   "name": "python",
   "nbconvert_exporter": "python",
   "pygments_lexer": "ipython3",
   "version": "3.10.6"
  }
 },
 "nbformat": 4,
 "nbformat_minor": 5
}
