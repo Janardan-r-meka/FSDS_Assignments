{
 "cells": [
  {
   "cell_type": "code",
   "execution_count": 1,
   "id": "2033158f-eb58-4168-8c57-d1ea41484716",
   "metadata": {},
   "outputs": [
    {
     "name": "stdout",
     "output_type": "stream",
     "text": [
      "Enter your choice\n",
      "1.Add\n",
      "2.Subtract\n",
      "3.Multiply\n",
      "4.Divide\n",
      "5. Remainder\n"
     ]
    },
    {
     "name": "stdin",
     "output_type": "stream",
     "text": [
      "Enter choice(1/2/3/4/5):  3\n",
      "Enter first number:  1\n",
      "Enter second number:  34\n"
     ]
    },
    {
     "name": "stdout",
     "output_type": "stream",
     "text": [
      "1.0  * 34.0 = 34.0\n"
     ]
    },
    {
     "name": "stdin",
     "output_type": "stream",
     "text": [
      "Let's do next calculation? (yes/no):  yes\n",
      "Enter choice(1/2/3/4/5):  1\n",
      "Enter first number:  12\n",
      "Enter second number:  34\n"
     ]
    },
    {
     "name": "stdout",
     "output_type": "stream",
     "text": [
      "12.0 + 34.0 = 46.0\n"
     ]
    },
    {
     "name": "stdin",
     "output_type": "stream",
     "text": [
      "Let's do next calculation? (yes/no):  no\n"
     ]
    }
   ],
   "source": [
    "#Python Program to Make a Simple Calculator with 4 basic mathematical operations\n",
    "print(\"Enter your choice\")\n",
    "print(\"1.Add\")\n",
    "print(\"2.Subtract\")\n",
    "print(\"3.Multiply\")\n",
    "print(\"4.Divide\")\n",
    "print(\"5. Remainder\")\n",
    "\n",
    "while True:   \n",
    "    choice = int(input(\"Enter choice(1/2/3/4/5): \"))\n",
    "\n",
    "    if choice in (1,2,3,4,5):\n",
    "        num1 = float(input(\"Enter first number: \"))\n",
    "        num2 = float(input(\"Enter second number: \"))\n",
    "\n",
    "        if choice == 1:\n",
    "            print(f\"{num1} + {num2} = {num1+num2}\")\n",
    "\n",
    "        elif choice == 2:\n",
    "            print(f\"{num1} - {num2} = {num1-num2}\")\n",
    "\n",
    "        elif choice == 3:\n",
    "            print(f\"{num1}  * {num2} = {num1*num2}\")\n",
    "\n",
    "        elif choice == 4:\n",
    "           print(f\"{num1}  / {num2} = {num1/num2}\")\n",
    "        \n",
    "        elif choice == 5:\n",
    "           print(f\"{num1}  % {num2} = {num1%num2}\")\n",
    "       \n",
    "        next_calculation = input(\"Let's do next calculation? (yes/no): \")\n",
    "        if next_calculation == \"no\":\n",
    "          break\n",
    "    \n",
    "    else:\n",
    "        print(\"Invalid Input\")"
   ]
  },
  {
   "cell_type": "code",
   "execution_count": 2,
   "id": "96466e39-313a-4861-a1e2-699d79222efe",
   "metadata": {},
   "outputs": [
    {
     "name": "stdin",
     "output_type": "stream",
     "text": [
      "enter the character  a\n"
     ]
    },
    {
     "name": "stdout",
     "output_type": "stream",
     "text": [
      "ASCII  value of a is 97\n"
     ]
    }
   ],
   "source": [
    "# Python Program To Find ASCII value of a character\n",
    "ch = input(\"enter the character \")\n",
    "print(f\"ASCII  value of {ch} is {ord(ch)}\")"
   ]
  },
  {
   "cell_type": "code",
   "execution_count": 6,
   "id": "ba30bd14-5c13-4424-b324-6247db9867fb",
   "metadata": {},
   "outputs": [
    {
     "name": "stdin",
     "output_type": "stream",
     "text": [
      "enter the decimal number to convert  15\n"
     ]
    },
    {
     "name": "stdout",
     "output_type": "stream",
     "text": [
      "binary conversion of 15 is 0b1111\n",
      "octal conversion of 15 is 0o17\n",
      "hexa decimal conversion of 15 is 0xf\n"
     ]
    }
   ],
   "source": [
    "#Python Program to Convert Decimal to Binary, Octal and Hexadecimal\n",
    "number = int(input(\"enter the decimal number to convert \"))\n",
    "\n",
    "print(f\"binary conversion of {number} is {bin(number)}\")\n",
    "print(f\"octal conversion of {number} is {oct(number)}\")\n",
    "print(f\"hexa decimal conversion of {number} is {hex(number)}\")"
   ]
  },
  {
   "cell_type": "code",
   "execution_count": 8,
   "id": "8507c90d-c1e7-436a-86f4-9d6a80ec6519",
   "metadata": {},
   "outputs": [
    {
     "name": "stdin",
     "output_type": "stream",
     "text": [
      "enter first number  54\n",
      "enter second number  24\n"
     ]
    },
    {
     "name": "stdout",
     "output_type": "stream",
     "text": [
      "hcf of 54 and 24 is 6\n"
     ]
    }
   ],
   "source": [
    "# Python Program to Find HCF\n",
    "def hcf(num1, num2):\n",
    "    smaller = num1 if num1 <= num2 else num2\n",
    "    for current in range(smaller,1,-1):\n",
    "        if num1% current == 0 and num2% current == 0:\n",
    "            return current\n",
    "        \n",
    "num1 = int(input(\"enter first number \"))\n",
    "num2 = int(input(\"enter second number \"))\n",
    "\n",
    "result = hcf(num1,num2)\n",
    "print(f\"hcf of {num1} and {num2} is {result}\")\n",
    "\n"
   ]
  },
  {
   "cell_type": "code",
   "execution_count": 11,
   "id": "2bb2e86b-f266-454d-836b-6d175e065f3d",
   "metadata": {},
   "outputs": [
    {
     "name": "stdin",
     "output_type": "stream",
     "text": [
      "enter first number  12\n",
      "enter second number  14\n"
     ]
    },
    {
     "name": "stdout",
     "output_type": "stream",
     "text": [
      "14\n",
      "lcm of 12 and 14 is 84\n"
     ]
    }
   ],
   "source": [
    "# Python Program to Find LCM\n",
    "def lcm(num1, num2):\n",
    "    greater = num1 if num1 >= num2 else num2\n",
    "    while True:\n",
    "        if greater%num1 == 0 and greater%num2 == 0:\n",
    "            return greater\n",
    "        greater+=1\n",
    "        \n",
    "num1 = int(input(\"enter first number \"))\n",
    "num2 = int(input(\"enter second number \"))\n",
    "\n",
    "result = lcm(num1,num2)\n",
    "print(f\"lcm of {num1} and {num2} is {result}\")"
   ]
  },
  {
   "cell_type": "code",
   "execution_count": null,
   "id": "8edd810b-f675-492d-a680-5959208f8310",
   "metadata": {},
   "outputs": [],
   "source": []
  }
 ],
 "metadata": {
  "kernelspec": {
   "display_name": "Python 3 (ipykernel)",
   "language": "python",
   "name": "python3"
  },
  "language_info": {
   "codemirror_mode": {
    "name": "ipython",
    "version": 3
   },
   "file_extension": ".py",
   "mimetype": "text/x-python",
   "name": "python",
   "nbconvert_exporter": "python",
   "pygments_lexer": "ipython3",
   "version": "3.10.6"
  }
 },
 "nbformat": 4,
 "nbformat_minor": 5
}
